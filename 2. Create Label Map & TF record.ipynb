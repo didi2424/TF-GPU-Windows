{
 "cells": [
  {
   "cell_type": "code",
   "execution_count": 1,
   "metadata": {},
   "outputs": [
    {
     "name": "stdout",
     "output_type": "stream",
     "text": [
      "/usr/bin/zsh: /home/dimask/miniconda3/lib/libtinfo.so.6: no version information available (required by /usr/bin/zsh)\n",
      "Thu Mar 16 12:13:42 2023       \n",
      "+-----------------------------------------------------------------------------+\n",
      "| NVIDIA-SMI 525.85.05    Driver Version: 528.24       CUDA Version: 12.0     |\n",
      "|-------------------------------+----------------------+----------------------+\n",
      "| GPU  Name        Persistence-M| Bus-Id        Disp.A | Volatile Uncorr. ECC |\n",
      "| Fan  Temp  Perf  Pwr:Usage/Cap|         Memory-Usage | GPU-Util  Compute M. |\n",
      "|                               |                      |               MIG M. |\n",
      "|===============================+======================+======================|\n",
      "|   0  NVIDIA GeForce ...  On   | 00000000:04:00.0  On |                  N/A |\n",
      "|  0%   41C    P8    39W / 420W |    845MiB / 24576MiB |      6%      Default |\n",
      "|                               |                      |                  N/A |\n",
      "+-------------------------------+----------------------+----------------------+\n",
      "                                                                               \n",
      "+-----------------------------------------------------------------------------+\n",
      "| Processes:                                                                  |\n",
      "|  GPU   GI   CI        PID   Type   Process name                  GPU Memory |\n",
      "|        ID   ID                                                   Usage      |\n",
      "|=============================================================================|\n",
      "|  No running processes found                                                 |\n",
      "+-----------------------------------------------------------------------------+\n"
     ]
    }
   ],
   "source": [
    "!nvidia-smi"
   ]
  },
  {
   "attachments": {},
   "cell_type": "markdown",
   "metadata": {},
   "source": [
    "<h3>2.a Create Label Map</h3>\n",
    "labelmap must as same when we create in Image-Studio"
   ]
  },
  {
   "cell_type": "code",
   "execution_count": 3,
   "metadata": {},
   "outputs": [],
   "source": [
    "import os\n",
    "LABEL_MAP_NAME = 'label_map.pbtxt'\n",
    "\n",
    "pathslabelmap = {\n",
    "    'ANNOTATION_PATH': os.path.join('Tensorflow', 'workspace','annotations'),\n",
    "    }\n",
    "fileslabelmap = {\n",
    "    'LABELMAP': os.path.join(pathslabelmap['ANNOTATION_PATH'], LABEL_MAP_NAME),\n",
    "    }\n",
    "\n",
    "for path in pathslabelmap.values():\n",
    "    if not os.path.exists(path):\n",
    "        !mkdir -p {path}\n"
   ]
  },
  {
   "cell_type": "code",
   "execution_count": 4,
   "metadata": {},
   "outputs": [],
   "source": [
    "labels = [{'name':'orang', 'id':1}, {'name':'motor', 'id':2}, {'name':'mobil', 'id':3}, {'name':'helm', 'id':4}, {'name':'Truk', 'id':5}]\n",
    "\n",
    "with open(fileslabelmap['LABELMAP'], 'w') as f:\n",
    "    for label in labels:\n",
    "        f.write('item { \\n')\n",
    "        f.write('\\tname:\\'{}\\'\\n'.format(label['name']))\n",
    "        f.write('\\tid:{}\\n'.format(label['id']))\n",
    "        f.write('}\\n')"
   ]
  },
  {
   "attachments": {},
   "cell_type": "markdown",
   "metadata": {},
   "source": [
    "<h3>2.c Create TFrecord Coco Dataset </h3>\n",
    "using create_coco_tf_record.py from directory Tensorflow Model that have been download in Section 1 <br>\n",
    "in the Image-Studio when you export a project you will get a .Zip file that contain Images and result.json"
   ]
  },
  {
   "cell_type": "code",
   "execution_count": 16,
   "metadata": {},
   "outputs": [
    {
     "name": "stdout",
     "output_type": "stream",
     "text": [
      "/usr/bin/zsh: /home/dimask/miniconda3/lib/libtinfo.so.6: no version information available (required by /usr/bin/zsh)\n",
      "/usr/bin/zsh: /home/dimask/miniconda3/lib/libtinfo.so.6: no version information available (required by /usr/bin/zsh)\n",
      "/usr/bin/zsh: /home/dimask/miniconda3/lib/libtinfo.so.6: no version information available (required by /usr/bin/zsh)\n"
     ]
    }
   ],
   "source": [
    "TF_RECORD_SCRIPT_NAME = 'create_coco_tf_record.py'\n",
    "COCO_RESULT_NAME = 'result.json'\n",
    "\n",
    "\n",
    "pathcoco = { \n",
    "    'TRAIN_PATH': os.path.join('Tensorflow','workspace','coco'),\n",
    "    'TFRECORD_PATH': os.path.join('Tensorflow','workspace','coco','TFrecord'),\n",
    "    'COCO_SCRIPT_PATH' : os.path.join('Tensorflow','workspace','coco','Script'),\n",
    "    'COCO_CREATE_PY_FILE' : os.path.join('Tensorflow','models','research', 'object_detection','dataset_tools', TF_RECORD_SCRIPT_NAME),\n",
    "    }\n",
    "\n",
    "datasetdir = {\n",
    "    'PATH_IMAGE_ANOTATION': os.path.join('Tensorflow','workspace', 'images')\n",
    "}\n",
    "\n",
    "dataset = {\n",
    "    'TRAIN_DIR' : os.path.join(datasetdir['PATH_IMAGE_ANOTATION'],'train'),\n",
    "    'TEST_DIR' : os.path.join(datasetdir['PATH_IMAGE_ANOTATION'],'test'),\n",
    "    'VAL_DIR' : os.path.join(datasetdir['PATH_IMAGE_ANOTATION'],'val')\n",
    "}\n",
    "\n",
    "for path in pathcoco.values():\n",
    "    if not os.path.exists(path):\n",
    "        !mkdir -p {path}\n",
    "for path in datasetdir.values():\n",
    "    if not os.path.exists(path):\n",
    "        !mkdir -p {path}\n",
    "for path in dataset.values():\n",
    "    if not os.path.exists(path):\n",
    "        !mkdir -p {path}"
   ]
  },
  {
   "cell_type": "code",
   "execution_count": 1,
   "metadata": {},
   "outputs": [
    {
     "name": "stdout",
     "output_type": "stream",
     "text": [
      "/usr/bin/zsh: /home/dimask/miniconda3/lib/libtinfo.so.6: no version information available (required by /usr/bin/zsh)\n",
      "zsh:1: no matches found: {os.path.join(pathcoco[COCO_CREATE_PY_FILE])}\n"
     ]
    }
   ],
   "source": [
    "!cp {os.path.join(pathcoco['COCO_CREATE_PY_FILE'])} {os.path.join(pathcoco['COCO_SCRIPT_PATH'])}"
   ]
  },
  {
   "attachments": {},
   "cell_type": "markdown",
   "metadata": {},
   "source": [
    "<blockquote> \n",
    "<h4> Notice !</h4>\n",
    "Open create_coco_tf_record.py inside Tensorflow/workspace/coco/Script/create_coco_tf_record.py and EDIT for num_shards=100 to num_shards=1\n",
    "\n",
    "</blockquote>\n"
   ]
  },
  {
   "attachments": {},
   "cell_type": "markdown",
   "metadata": {},
   "source": [
    "<blockquote>\n",
    "<h4> Notice !! </h4>\n",
    "<blockquote>\n",
    "</blockquote>\n",
    "before you create tf record make sure you export the dataset into this folder 'Tensorflow/workspace/images' <br>\n",
    "</blockquote>\n",
    "<br>\n",
    "<blockquote>\n",
    "<h4> Error No such file or directory </h4>\n",
    "\n",
    "<p> /images\\*****.JPG*****; No such file or directory <br>\n",
    "find and open result.json inside directory dataset and delete all '/images\\'<br>\n",
    "</p>\n",
    "</blockquote>\n",
    "\n"
   ]
  },
  {
   "cell_type": "code",
   "execution_count": 13,
   "metadata": {},
   "outputs": [
    {
     "name": "stdout",
     "output_type": "stream",
     "text": [
      "Tensorflow/workspace/images\n"
     ]
    }
   ],
   "source": [
    "print(datasetdir['PATH_IMAGE_ANOTATION'])"
   ]
  },
  {
   "cell_type": "code",
   "execution_count": 7,
   "metadata": {},
   "outputs": [],
   "source": [
    "command = 'python {} --logtostderr --train_image_dir={} --val_image_dir={}\\\n",
    "    --test_image_dir={} --train_annotations_file={} --val_annotations_file={}\\\n",
    "    --testdev_annotations_file={} --output_dir={}  --num_shards=1'.format(os.path.join(pathcoco['COCO_SCRIPT_PATH'], TF_RECORD_SCRIPT_NAME),\\\n",
    "                                      os.path.join(datasetdir['PATH_IMAGE_ANOTATION'], 'train'),os.path.join(datasetdir['PATH_IMAGE_ANOTATION'], 'val'),os.path.join(datasetdir['PATH_IMAGE_ANOTATION'], 'test'),\\\n",
    "                                         os.path.join(datasetdir['PATH_IMAGE_ANOTATION'], 'train',COCO_RESULT_NAME), os.path.join(datasetdir['PATH_IMAGE_ANOTATION'], 'val',COCO_RESULT_NAME), os.path.join(datasetdir['PATH_IMAGE_ANOTATION'], 'test',COCO_RESULT_NAME),\\\n",
    "                                            pathcoco['TFRECORD_PATH'] )"
   ]
  },
  {
   "cell_type": "code",
   "execution_count": 17,
   "metadata": {},
   "outputs": [
    {
     "name": "stdout",
     "output_type": "stream",
     "text": [
      "/usr/bin/zsh: /home/dimask/miniconda3/lib/libtinfo.so.6: no version information available (required by /usr/bin/zsh)\n",
      "2023-03-16 18:56:03.373251: W tensorflow/compiler/xla/stream_executor/platform/default/dso_loader.cc:64] Could not load dynamic library 'libnvinfer.so.7'; dlerror: libnvinfer.so.7: cannot open shared object file: No such file or directory; LD_LIBRARY_PATH: :/home/dimask/miniconda3/lib/:/home/dimask/miniconda3/envs/tfod3/lib/\n",
      "2023-03-16 18:56:03.376224: W tensorflow/compiler/xla/stream_executor/platform/default/dso_loader.cc:64] Could not load dynamic library 'libnvinfer_plugin.so.7'; dlerror: libnvinfer_plugin.so.7: cannot open shared object file: No such file or directory; LD_LIBRARY_PATH: :/home/dimask/miniconda3/lib/:/home/dimask/miniconda3/envs/tfod3/lib/\n",
      "2023-03-16 18:56:03.376308: W tensorflow/compiler/tf2tensorrt/utils/py_utils.cc:38] TF-TRT Warning: Cannot dlopen some TensorRT libraries. If you would like to use Nvidia GPU with TensorRT, please make sure the missing libraries mentioned above are installed properly.\n",
      "2023-03-16 18:56:06.042399: I tensorflow/compiler/xla/stream_executor/cuda/cuda_gpu_executor.cc:967] could not open file to read NUMA node: /sys/bus/pci/devices/0000:04:00.0/numa_node\n",
      "Your kernel may have been built without NUMA support.\n",
      "2023-03-16 18:56:06.076905: I tensorflow/compiler/xla/stream_executor/cuda/cuda_gpu_executor.cc:967] could not open file to read NUMA node: /sys/bus/pci/devices/0000:04:00.0/numa_node\n",
      "Your kernel may have been built without NUMA support.\n",
      "2023-03-16 18:56:06.078027: I tensorflow/compiler/xla/stream_executor/cuda/cuda_gpu_executor.cc:967] could not open file to read NUMA node: /sys/bus/pci/devices/0000:04:00.0/numa_node\n",
      "Your kernel may have been built without NUMA support.\n",
      "I0316 18:56:06.095683 139775804879680 create_coco_tf_record.py:399] Found groundtruth annotations. Building annotations index.\n",
      "I0316 18:56:06.096166 139775804879680 create_coco_tf_record.py:411] 0 images are missing annotations.\n",
      "I0316 18:56:06.096519 139775804879680 create_coco_tf_record.py:441] On image 0 of 84\n",
      "I0316 18:56:06.756473 139775804879680 create_coco_tf_record.py:465] Finished writing, skipped 0 annotations.\n",
      "I0316 18:56:06.805284 139775804879680 create_coco_tf_record.py:399] Found groundtruth annotations. Building annotations index.\n",
      "I0316 18:56:06.805617 139775804879680 create_coco_tf_record.py:411] 0 images are missing annotations.\n",
      "I0316 18:56:06.805762 139775804879680 create_coco_tf_record.py:441] On image 0 of 26\n",
      "I0316 18:56:07.048629 139775804879680 create_coco_tf_record.py:465] Finished writing, skipped 0 annotations.\n",
      "I0316 18:56:07.059790 139775804879680 create_coco_tf_record.py:399] Found groundtruth annotations. Building annotations index.\n",
      "I0316 18:56:07.060052 139775804879680 create_coco_tf_record.py:411] 0 images are missing annotations.\n",
      "I0316 18:56:07.060204 139775804879680 create_coco_tf_record.py:441] On image 0 of 26\n",
      "I0316 18:56:07.291290 139775804879680 create_coco_tf_record.py:465] Finished writing, skipped 0 annotations.\n"
     ]
    }
   ],
   "source": [
    "!{command}"
   ]
  },
  {
   "attachments": {},
   "cell_type": "markdown",
   "metadata": {},
   "source": [
    "<blockquote> \n",
    "<h3> Rename TFrecord file </h3>\n",
    "\n",
    "after creating record file you must rename that file, because create_coco_tf_record.py have a num_shards function that make .record file into \n",
    "several files <br>\n",
    "<blockquote> \n",
    "coco_testdev.record-0000-0f-0001 to coco_testdev.record <br>\n",
    "coco_train.record-0000-0f-0001 to coco_train.record <br>\n",
    "coco_val.record-0000-0f-0001 to coco_val.record<br>\n",
    "</blockquote> \n",
    "</blockquote>"
   ]
  }
 ],
 "metadata": {
  "kernelspec": {
   "display_name": "Python 3 (ipykernel)",
   "language": "python",
   "name": "python3"
  },
  "language_info": {
   "codemirror_mode": {
    "name": "ipython",
    "version": 3
   },
   "file_extension": ".py",
   "mimetype": "text/x-python",
   "name": "python",
   "nbconvert_exporter": "python",
   "pygments_lexer": "ipython3",
   "version": "3.8.10"
  },
  "orig_nbformat": 4
 },
 "nbformat": 4,
 "nbformat_minor": 2
}
